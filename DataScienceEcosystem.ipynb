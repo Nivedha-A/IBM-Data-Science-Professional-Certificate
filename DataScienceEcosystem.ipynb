{
 "cells": [
  {
   "cell_type": "markdown",
   "id": "871c3b8b-876d-4be6-8187-a1b790b9c6b4",
   "metadata": {},
   "source": [
    "# Data Science Tools and Ecosystem"
   ]
  },
  {
   "cell_type": "markdown",
   "id": "a95dcb32-b6ea-4cf4-9102-abf4aa1f8e10",
   "metadata": {},
   "source": [
    "### In this notebook, Data Science Tools and Ecosystem are summarized."
   ]
  },
  {
   "cell_type": "markdown",
   "id": "98837bcc-e646-4d1e-a850-2b8eaab95681",
   "metadata": {},
   "source": [
    "#### **Objectives:**\n",
    "* List popular languages for Data Science\n",
    "* List the commonly used libraries by Data Scientists\n",
    "* Development Environment Open-Source Data Science tools\n",
    "* Arthimetic operations\n",
    "* Minutes to Hours conversion"
   ]
  },
  {
   "cell_type": "markdown",
   "id": "57d74664-cf78-4060-b713-365fdaa29284",
   "metadata": {},
   "source": [
    "#### Some of the popular languages that Data Scientists use are:\n",
    "\n",
    "1. Python\n",
    "2. R\n",
    "3. SQL\n",
    "4. Java\n",
    "5. Scala\n",
    "6. Julia"
   ]
  },
  {
   "cell_type": "markdown",
   "id": "8bcf4c94-bbae-40db-9921-fc741b6bec73",
   "metadata": {},
   "source": [
    "#### Some of the commonly used libraries used by Data Scientists include:\n",
    "\n",
    "1. numpy\n",
    "2. pandas\n",
    "3. matplotlib\n",
    "4. seaborn\n",
    "5. scikit-learn\n",
    "6. tensorflow"
   ]
  },
  {
   "cell_type": "markdown",
   "id": "6325b5ae-b7e9-4b3e-a6b8-1366c6cd13a2",
   "metadata": {},
   "source": [
    "| Data Science Tools |\n",
    "|--------------------|\n",
    "|My SQL|\n",
    "|Jupyter Notebook|\n",
    "|RStudio|\n",
    "\n"
   ]
  },
  {
   "cell_type": "markdown",
   "id": "45a53bae-b392-4c0b-94df-f0f2339b214b",
   "metadata": {},
   "source": [
    "### Below are a few examples of evaluating arithmetic expressions in Python"
   ]
  },
  {
   "cell_type": "code",
   "execution_count": 1,
   "id": "89ad6eee-9c9b-46ff-a800-f203b08d0262",
   "metadata": {},
   "outputs": [
    {
     "data": {
      "text/plain": [
       "17"
      ]
     },
     "execution_count": 1,
     "metadata": {},
     "output_type": "execute_result"
    }
   ],
   "source": [
    "#  This a simple arithmetic expression to mutiply then add integers.\n",
    "(3*4)+5"
   ]
  },
  {
   "cell_type": "code",
   "execution_count": 2,
   "id": "a88c5f35-1f53-4153-8caf-8572b3c732ea",
   "metadata": {},
   "outputs": [
    {
     "data": {
      "text/plain": [
       "3.3333333333333335"
      ]
     },
     "execution_count": 2,
     "metadata": {},
     "output_type": "execute_result"
    }
   ],
   "source": [
    "# This will convert 200 minutes to hours by diving by 60\n",
    "mins=200\n",
    "hours=mins/60\n",
    "hours"
   ]
  },
  {
   "cell_type": "markdown",
   "id": "5d587642-c35c-4ad6-a08d-4bee11ead2ae",
   "metadata": {},
   "source": [
    "## Author\n",
    "Nivedha A"
   ]
  },
  {
   "cell_type": "code",
   "execution_count": null,
   "id": "5aa2b902-9554-484f-8257-8ff05079ff70",
   "metadata": {},
   "outputs": [],
   "source": []
  },
  {
   "cell_type": "code",
   "execution_count": null,
   "id": "d08f69af-148f-4582-add8-0a540fee7515",
   "metadata": {},
   "outputs": [],
   "source": []
  }
 ],
 "metadata": {
  "kernelspec": {
   "display_name": "Python 3 (ipykernel)",
   "language": "python",
   "name": "python3"
  },
  "language_info": {
   "codemirror_mode": {
    "name": "ipython",
    "version": 3
   },
   "file_extension": ".py",
   "mimetype": "text/x-python",
   "name": "python",
   "nbconvert_exporter": "python",
   "pygments_lexer": "ipython3",
   "version": "3.11.7"
  }
 },
 "nbformat": 4,
 "nbformat_minor": 5
}
